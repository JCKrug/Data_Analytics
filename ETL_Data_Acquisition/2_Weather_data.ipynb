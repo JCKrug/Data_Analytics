{
 "cells": [
  {
   "cell_type": "markdown",
   "id": "2ae4b3ff-fc2f-445f-99af-4daf8accf5b5",
   "metadata": {},
   "source": [
    "# Extract data from web via API and push it to the database"
   ]
  },
  {
   "cell_type": "code",
   "execution_count": 6,
   "id": "1573ef22-dcde-4ea8-a077-63f3ab1ce60e",
   "metadata": {
    "id": "1573ef22-dcde-4ea8-a077-63f3ab1ce60e"
   },
   "outputs": [
    {
     "ename": "ImportError",
     "evalue": "cannot import name 'OW_API_key' from 'keys' (/Users/janinamarc/Desktop/Janina/WBS/Data Acquistition/Musterlösung Lokal/keys.py)",
     "output_type": "error",
     "traceback": [
      "\u001b[0;31m---------------------------------------------------------------------------\u001b[0m",
      "\u001b[0;31mImportError\u001b[0m                               Traceback (most recent call last)",
      "Cell \u001b[0;32mIn[6], line 6\u001b[0m\n\u001b[1;32m      4\u001b[0m \u001b[38;5;28;01mfrom\u001b[39;00m \u001b[38;5;21;01mdatetime\u001b[39;00m \u001b[38;5;28;01mimport\u001b[39;00m datetime\n\u001b[1;32m      5\u001b[0m \u001b[38;5;28;01mfrom\u001b[39;00m \u001b[38;5;21;01mkeys\u001b[39;00m \u001b[38;5;28;01mimport\u001b[39;00m MySQL_pass\n\u001b[0;32m----> 6\u001b[0m \u001b[38;5;28;01mfrom\u001b[39;00m \u001b[38;5;21;01mkeys\u001b[39;00m \u001b[38;5;28;01mimport\u001b[39;00m OW_API_key\n\u001b[1;32m      7\u001b[0m \u001b[38;5;28;01mimport\u001b[39;00m \u001b[38;5;21;01msqlalchemy\u001b[39;00m\n\u001b[1;32m      9\u001b[0m \u001b[38;5;28;01mdef\u001b[39;00m \u001b[38;5;21mretrieve_data\u001b[39m():\n",
      "\u001b[0;31mImportError\u001b[0m: cannot import name 'OW_API_key' from 'keys' (/Users/janinamarc/Desktop/Janina/WBS/Data Acquistition/Musterlösung Lokal/keys.py)"
     ]
    }
   ],
   "source": [
    "import pandas as pd\n",
    "import requests\n",
    "from pytz import timezone\n",
    "from datetime import datetime\n",
    "from keys import MySQL_pass\n",
    "from keys import OW_API_key  \n",
    "import sqlalchemy\n",
    "\n",
    "def retrieve_data():\n",
    "    connection_string = create_connection_string()\n",
    "    cities_df = fetch_cities_data(connection_string)\n",
    "    weather_df = fetch_weather_data(cities_df)\n",
    "    push_weather_data_to_database(weather_df, connection_string)\n",
    "    return \"Data has been updated\"\n",
    "\n",
    "def create_connection_string():\n",
    "    schema = \"gans_data\" # The name of your database\n",
    "    host = \"127.0.0.1\"\n",
    "    user = \"root\"\n",
    "    password = MySQL_pass # Your MySQL password\n",
    "    port = 3306\n",
    "    return f'mysql+pymysql://{user}:{password}@{host}:{port}/{schema}'\n",
    "\n",
    "def fetch_cities_data(connection_string):\n",
    "    return pd.read_sql(\"cities\", con=connection_string)\n",
    "\n",
    "def fetch_weather_data(cities_df):\n",
    "\n",
    "    berlin_timezone = timezone('Europe/Berlin')\n",
    "    API_key = OW_API_key #USE YOUR OWN OPEN WHEATHER KEY HERE\n",
    "    weather_items = []\n",
    "\n",
    "    for _, city in cities_df.iterrows():\n",
    "\n",
    "        latitude = city[\"Latitude\"]\n",
    "        longitude = city[\"Longitude\"]\n",
    "        city_id = city[\"City_id\"]\n",
    "\n",
    "        url = (f\"https://api.openweathermap.org/data/2.5/forecast?lat={latitude}&lon={longitude}&appid={API_key}&units=metric\")\n",
    "        response = requests.get(url)\n",
    "        weather_data = response.json()\n",
    "\n",
    "        retrieval_time = datetime.now(berlin_timezone).strftime(\"%Y-%m-%d %H:%M:%S\")\n",
    "\n",
    "        for item in weather_data[\"list\"]:\n",
    "            weather_item = {\n",
    "              \"city_id\": city_id,\n",
    "              \"forecast_time\": item.get(\"dt_txt\"),\n",
    "              \"outlook\": item[\"weather\"][0].get(\"description\", None),\n",
    "              \"temperature\": item[\"main\"].get(\"temp\"),\n",
    "              \"rain_in_last_3h\": item.get(\"rain\", {}).get(\"3h\", 0),\n",
    "              \"wind_speed\": item[\"wind\"].get(\"speed\"),\n",
    "              \"rain_prob\": item.get(\"pop\", None),\n",
    "              \"data_retrieved_at\": retrieval_time\n",
    "            }\n",
    "            weather_items.append(weather_item)\n",
    "\n",
    "    weather_df = pd.DataFrame(weather_items)\n",
    "    weather_df[\"forecast_time\"] = pd.to_datetime(weather_df[\"forecast_time\"])\n",
    "    weather_df[\"data_retrieved_at\"] = pd.to_datetime(weather_df[\"data_retrieved_at\"])\n",
    "\n",
    "    return weather_df\n",
    "\n",
    "def push_weather_data_to_database(weather_df, connection_string):\n",
    "\n",
    "    weather_df.to_sql('weather',\n",
    "                    if_exists='append',\n",
    "                    con=connection_string,\n",
    "                    index=False)"
   ]
  },
  {
   "cell_type": "code",
   "execution_count": null,
   "id": "beb11786-6308-4306-b24b-e808663a0e1e",
   "metadata": {
    "id": "beb11786-6308-4306-b24b-e808663a0e1e",
    "outputId": "4aeac3c2-ebd2-477e-b218-d7fb8d5499ac"
   },
   "outputs": [
    {
     "data": {
      "text/plain": [
       "'Data has been updated'"
      ]
     },
     "execution_count": 9,
     "metadata": {},
     "output_type": "execute_result"
    }
   ],
   "source": [
    "retrieve_data()"
   ]
  },
  {
   "cell_type": "markdown",
   "id": "e20e75e7-3be4-4165-8a08-db8624d6d554",
   "metadata": {},
   "source": [
    "### SUCCESS!"
   ]
  },
  {
   "cell_type": "code",
   "execution_count": null,
   "id": "4a0ecd8a-6fa8-4baa-a166-690bd865a385",
   "metadata": {},
   "outputs": [],
   "source": []
  }
 ],
 "metadata": {
  "colab": {
   "provenance": []
  },
  "kernelspec": {
   "display_name": "Python [conda env:base] *",
   "language": "python",
   "name": "conda-base-py"
  },
  "language_info": {
   "codemirror_mode": {
    "name": "ipython",
    "version": 3
   },
   "file_extension": ".py",
   "mimetype": "text/x-python",
   "name": "python",
   "nbconvert_exporter": "python",
   "pygments_lexer": "ipython3",
   "version": "3.12.7"
  }
 },
 "nbformat": 4,
 "nbformat_minor": 5
}
