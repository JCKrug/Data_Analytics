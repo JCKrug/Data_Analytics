{
 "cells": [
  {
   "cell_type": "code",
   "execution_count": 47,
   "metadata": {
    "id": "lIYdn1woOS1n"
   },
   "outputs": [
    {
     "ename": "ImportError",
     "evalue": "cannot import name 'AeroDatabox' from 'keys' (/Users/janinamarc/Desktop/Janina/WBS/Data Acquistition/Musterlosung_Lokal/keys.py)",
     "output_type": "error",
     "traceback": [
      "\u001b[0;31m---------------------------------------------------------------------------\u001b[0m",
      "\u001b[0;31mImportError\u001b[0m                               Traceback (most recent call last)",
      "Cell \u001b[0;32mIn[47], line 4\u001b[0m\n\u001b[1;32m      2\u001b[0m \u001b[38;5;28;01mimport\u001b[39;00m \u001b[38;5;21;01mrequests\u001b[39;00m\n\u001b[1;32m      3\u001b[0m \u001b[38;5;28;01mfrom\u001b[39;00m \u001b[38;5;21;01mkeys\u001b[39;00m \u001b[38;5;28;01mimport\u001b[39;00m MySQL_pass\n\u001b[0;32m----> 4\u001b[0m \u001b[38;5;28;01mfrom\u001b[39;00m \u001b[38;5;21;01mkeys\u001b[39;00m \u001b[38;5;28;01mimport\u001b[39;00m AeroDatabox\n\u001b[1;32m      5\u001b[0m \u001b[38;5;28;01mimport\u001b[39;00m \u001b[38;5;21;01msqlalchemy\u001b[39;00m\n\u001b[1;32m      6\u001b[0m \u001b[38;5;28;01mfrom\u001b[39;00m \u001b[38;5;21;01mIPython\u001b[39;00m\u001b[38;5;21;01m.\u001b[39;00m\u001b[38;5;21;01mdisplay\u001b[39;00m \u001b[38;5;28;01mimport\u001b[39;00m JSON\n",
      "\u001b[0;31mImportError\u001b[0m: cannot import name 'AeroDatabox' from 'keys' (/Users/janinamarc/Desktop/Janina/WBS/Data Acquistition/Musterlosung_Lokal/keys.py)"
     ]
    }
   ],
   "source": [
    "import pandas as pd\n",
    "import requests\n",
    "from keys import MySQL_pass\n",
    "from keys import AeroDatabox\n",
    "import sqlalchemy\n",
    "from IPython.display import JSON"
   ]
  },
  {
   "cell_type": "code",
   "execution_count": 38,
   "metadata": {
    "id": "QGDQoIP6z8tR",
    "tags": []
   },
   "outputs": [],
   "source": [
    "def icao_airport_codes():\n",
    "\n",
    "    schema = \"gans_data\" # The name of your database\n",
    "    host = \"127.0.0.1\"\n",
    "    user = \"root\"\n",
    "    password = MySQL_pass # Your MySQL password\n",
    "    port = 3306\n",
    "\n",
    "    connection_string = f'mysql+pymysql://{user}:{password}@{host}:{port}/{schema}'\n",
    "\n",
    "    cities_df = pd.read_sql(\"cities\", con=connection_string)\n",
    "\n",
    "    list_for_df = []\n",
    "\n",
    "    for _, city in cities_df.iterrows():\n",
    "        latitude = city[\"Latitude\"]\n",
    "        longitude = city[\"Longitude\"]\n",
    "        city_id = city[\"city_id\"]\n",
    "\n",
    "        url = \"https://aerodatabox.p.rapidapi.com/airports/search/location\"\n",
    "\n",
    "        querystring = {\"lat\":latitude,\"lon\":longitude,\"radiusKm\":\"50\",\"limit\":\"5\",\"withFlightInfoOnly\":\"true\"}\n",
    "        headers = {\n",
    "          \"X-RapidAPI-Host\": \"aerodatabox.p.rapidapi.com\",\n",
    "          \"X-RapidAPI-Key\": AeroDatabox #USE THE PROVIDED KEY\n",
    "        }\n",
    "\n",
    "        response = requests.get(url, headers=headers, params=querystring)\n",
    "\n",
    "        for item in response.json()['items']:\n",
    "            airports_data = {\n",
    "            \"city_id\": city_id,\n",
    "            \"icao\": item.get(\"icao\", None),\n",
    "            \"municipality_name\": item.get(\"municipalityName\", None)\n",
    "        }\n",
    "\n",
    "\n",
    "        list_for_df.append(airports_data)\n",
    "\n",
    "    airports_df = pd.DataFrame(list_for_df)\n",
    "\n",
    "    return airports_df"
   ]
  },
  {
   "cell_type": "code",
   "execution_count": 40,
   "metadata": {
    "id": "9CeLqacJz8tR",
    "outputId": "856b09f3-3aae-4c6c-d275-091b7c54f71f"
   },
   "outputs": [
    {
     "ename": "NameError",
     "evalue": "name 'AeroDatabox' is not defined",
     "output_type": "error",
     "traceback": [
      "\u001b[0;31m---------------------------------------------------------------------------\u001b[0m",
      "\u001b[0;31mNameError\u001b[0m                                 Traceback (most recent call last)",
      "Cell \u001b[0;32mIn[40], line 1\u001b[0m\n\u001b[0;32m----> 1\u001b[0m airports_df \u001b[38;5;241m=\u001b[39m icao_airport_codes()\n\u001b[1;32m      2\u001b[0m airports_df\n",
      "Cell \u001b[0;32mIn[38], line 25\u001b[0m, in \u001b[0;36micao_airport_codes\u001b[0;34m()\u001b[0m\n\u001b[1;32m     20\u001b[0m url \u001b[38;5;241m=\u001b[39m \u001b[38;5;124m\"\u001b[39m\u001b[38;5;124mhttps://aerodatabox.p.rapidapi.com/airports/search/location\u001b[39m\u001b[38;5;124m\"\u001b[39m\n\u001b[1;32m     22\u001b[0m querystring \u001b[38;5;241m=\u001b[39m {\u001b[38;5;124m\"\u001b[39m\u001b[38;5;124mlat\u001b[39m\u001b[38;5;124m\"\u001b[39m:latitude,\u001b[38;5;124m\"\u001b[39m\u001b[38;5;124mlon\u001b[39m\u001b[38;5;124m\"\u001b[39m:longitude,\u001b[38;5;124m\"\u001b[39m\u001b[38;5;124mradiusKm\u001b[39m\u001b[38;5;124m\"\u001b[39m:\u001b[38;5;124m\"\u001b[39m\u001b[38;5;124m50\u001b[39m\u001b[38;5;124m\"\u001b[39m,\u001b[38;5;124m\"\u001b[39m\u001b[38;5;124mlimit\u001b[39m\u001b[38;5;124m\"\u001b[39m:\u001b[38;5;124m\"\u001b[39m\u001b[38;5;124m5\u001b[39m\u001b[38;5;124m\"\u001b[39m,\u001b[38;5;124m\"\u001b[39m\u001b[38;5;124mwithFlightInfoOnly\u001b[39m\u001b[38;5;124m\"\u001b[39m:\u001b[38;5;124m\"\u001b[39m\u001b[38;5;124mtrue\u001b[39m\u001b[38;5;124m\"\u001b[39m}\n\u001b[1;32m     23\u001b[0m headers \u001b[38;5;241m=\u001b[39m {\n\u001b[1;32m     24\u001b[0m   \u001b[38;5;124m\"\u001b[39m\u001b[38;5;124mX-RapidAPI-Host\u001b[39m\u001b[38;5;124m\"\u001b[39m: \u001b[38;5;124m\"\u001b[39m\u001b[38;5;124maerodatabox.p.rapidapi.com\u001b[39m\u001b[38;5;124m\"\u001b[39m,\n\u001b[0;32m---> 25\u001b[0m   \u001b[38;5;124m\"\u001b[39m\u001b[38;5;124mX-RapidAPI-Key\u001b[39m\u001b[38;5;124m\"\u001b[39m: AeroDatabox \u001b[38;5;66;03m#USE THE PROVIDED KEY\u001b[39;00m\n\u001b[1;32m     26\u001b[0m }\n\u001b[1;32m     28\u001b[0m response \u001b[38;5;241m=\u001b[39m requests\u001b[38;5;241m.\u001b[39mget(url, headers\u001b[38;5;241m=\u001b[39mheaders, params\u001b[38;5;241m=\u001b[39mquerystring)\n\u001b[1;32m     30\u001b[0m \u001b[38;5;28;01mfor\u001b[39;00m item \u001b[38;5;129;01min\u001b[39;00m response\u001b[38;5;241m.\u001b[39mjson()[\u001b[38;5;124m'\u001b[39m\u001b[38;5;124mitems\u001b[39m\u001b[38;5;124m'\u001b[39m]:\n",
      "\u001b[0;31mNameError\u001b[0m: name 'AeroDatabox' is not defined"
     ]
    }
   ],
   "source": [
    "airports_df = icao_airport_codes()\n",
    "airports_df"
   ]
  },
  {
   "cell_type": "markdown",
   "metadata": {
    "id": "XiogJtzEz8tR"
   },
   "source": [
    "### Push the \"airports_to_db\" to the empty \"airports\" table in the database"
   ]
  },
  {
   "cell_type": "code",
   "execution_count": null,
   "metadata": {
    "id": "mtGLEwp2z8tR"
   },
   "outputs": [],
   "source": [
    "schema = \"gans_data\" # The name of your database\n",
    "host = \"127.0.0.1\"\n",
    "user = \"root\"\n",
    "password = MySQL_pass # Your MySQL password\n",
    "port = 3306\n",
    "\n",
    "connection_string = f'mysql+pymysql://{user}:{password}@{host}:{port}/{schema}'"
   ]
  },
  {
   "cell_type": "code",
   "execution_count": null,
   "metadata": {
    "id": "e9vvPvLtz8tR",
    "outputId": "2327de61-acb9-4ef9-b8a6-81de35b79fcf",
    "scrolled": true
   },
   "outputs": [
    {
     "data": {
      "text/plain": [
       "3"
      ]
     },
     "execution_count": 28,
     "metadata": {},
     "output_type": "execute_result"
    }
   ],
   "source": [
    "airports_df.to_sql('airports',\n",
    "                  if_exists='append',\n",
    "                  con=connection_string,\n",
    "                  index=False)"
   ]
  },
  {
   "cell_type": "code",
   "execution_count": null,
   "metadata": {},
   "outputs": [],
   "source": [
    "### SUCCESS!"
   ]
  }
 ],
 "metadata": {
  "colab": {
   "provenance": []
  },
  "kernelspec": {
   "display_name": "Python [conda env:base] *",
   "language": "python",
   "name": "conda-base-py"
  },
  "language_info": {
   "codemirror_mode": {
    "name": "ipython",
    "version": 3
   },
   "file_extension": ".py",
   "mimetype": "text/x-python",
   "name": "python",
   "nbconvert_exporter": "python",
   "pygments_lexer": "ipython3",
   "version": "3.12.7"
  }
 },
 "nbformat": 4,
 "nbformat_minor": 4
}
